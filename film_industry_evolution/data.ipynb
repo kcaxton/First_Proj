{
 "cells": [
  {
   "cell_type": "code",
   "execution_count": 5,
   "id": "bc759ab4",
   "metadata": {},
   "outputs": [],
   "source": [
    "#importing the requirements\n",
    "import pandas as pd\n",
    "import numpy as np\n",
    "import matplotlib.pyplot as plt\n",
    "import seaborn as sns\n",
    "import plotly.express as px\n",
    "from collections import Counter\n"
   ]
  },
  {
   "cell_type": "code",
   "execution_count": 6,
   "id": "5829355c",
   "metadata": {},
   "outputs": [
    {
     "name": "stdout",
     "output_type": "stream",
     "text": [
      "show_id           0\n",
      "type              0\n",
      "title             0\n",
      "country         417\n",
      "release_year      0\n",
      "listed_in         0\n",
      "dtype: int64\n",
      "show_id         0\n",
      "type            0\n",
      "title           0\n",
      "country         0\n",
      "release_year    0\n",
      "listed_in       0\n",
      "dtype: int64\n",
      "  show_id   type                                             title  \\\n",
      "0     s62  Movie  Naruto the Movie 2: Legend of the Stone of Gelel   \n",
      "1    s130  Movie                                An Unfinished Life   \n",
      "2    s152  Movie                                         Initial D   \n",
      "3    s203  Movie                                 Kyaa Kool Hai Hum   \n",
      "4    s579  Movie                               Memoirs of a Geisha   \n",
      "\n",
      "                        country  release_year  \\\n",
      "0                         Japan          2005   \n",
      "1        Germany, United States          2005   \n",
      "2              China, Hong Kong          2005   \n",
      "3                         India          2005   \n",
      "4  France, Japan, United States          2005   \n",
      "\n",
      "                                           listed_in  \n",
      "0  Action & Adventure, Anime Features, Internatio...  \n",
      "1                                             Dramas  \n",
      "2           Action & Adventure, International Movies  \n",
      "3   Comedies, International Movies, Music & Musicals  \n",
      "4                            Dramas, Romantic Movies  \n"
     ]
    }
   ],
   "source": [
    "#Loading the Movies dataset\n",
    "\n",
    "movies = pd.read_excel(\"C:\\\\Users\\\\kayce\\\\OneDrive\\\\Desktop\\\\Movies.xlsx\")\n",
    "#Checking for missing values\n",
    "print(movies.isnull().sum())\n",
    "#Filling missing values with 'Unknown'\n",
    "movies.fillna(\"Unknown\", inplace=True)\n",
    "print(movies.isnull().sum())\n",
    "print(movies.head())\n"
   ]
  }
 ],
 "metadata": {
  "kernelspec": {
   "display_name": "Python 3",
   "language": "python",
   "name": "python3"
  },
  "language_info": {
   "codemirror_mode": {
    "name": "ipython",
    "version": 3
   },
   "file_extension": ".py",
   "mimetype": "text/x-python",
   "name": "python",
   "nbconvert_exporter": "python",
   "pygments_lexer": "ipython3",
   "version": "3.13.3"
  }
 },
 "nbformat": 4,
 "nbformat_minor": 5
}
